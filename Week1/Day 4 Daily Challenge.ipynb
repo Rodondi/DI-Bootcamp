{
  "nbformat": 4,
  "nbformat_minor": 0,
  "metadata": {
    "colab": {
      "provenance": []
    },
    "kernelspec": {
      "name": "python3",
      "display_name": "Python 3"
    },
    "language_info": {
      "name": "python"
    }
  },
  "cells": [
    {
      "cell_type": "markdown",
      "source": [
        "Challenge 1\n",
        "\n",
        "Ask the user for a number and a length.\n",
        "Create a program that prints a list of multiples of the number until the list length reaches length.\n",
        "Examples\n",
        "\n",
        "number: 7 - length 5 ➞ [7, 14, 21, 28, 35]\n",
        "\n",
        "number: 12 - length 10 ➞ [12, 24, 36, 48, 60, 72, 84, 96, 108, 120]\n",
        "\n",
        "number: 17 - length 6 ➞ [17, 34, 51, 68, 85, 102]"
      ],
      "metadata": {
        "id": "GYsmUqCx8Bkj"
      }
    },
    {
      "cell_type": "code",
      "execution_count": 1,
      "metadata": {
        "colab": {
          "base_uri": "https://localhost:8080/"
        },
        "id": "S2O-dgU174uW",
        "outputId": "eae870e7-b30d-4231-d309-4cf361d3f11b"
      },
      "outputs": [
        {
          "name": "stdout",
          "output_type": "stream",
          "text": [
            "Enter a number: 17\n",
            "Enter the length: 6\n"
          ]
        },
        {
          "output_type": "execute_result",
          "data": {
            "text/plain": [
              "[17, 34, 51, 68, 85, 102]"
            ]
          },
          "metadata": {},
          "execution_count": 1
        }
      ],
      "source": [
        "def generate_multiples(number, length):\n",
        "  multiples = []\n",
        "  for i in range(1, length + 1):\n",
        "    multiples.append(number * i)\n",
        "  return multiples\n",
        "\n",
        "number = int(input(\"Enter a number: \"))\n",
        "length = int(input(\"Enter the length: \"))\n",
        "\n",
        "result = generate_multiples(number, length)\n",
        "result"
      ]
    },
    {
      "cell_type": "markdown",
      "source": [
        "Challenge 2\n",
        "\n",
        "Write a program that asks a string to the user, and display a new string with any duplicate consecutive letters removed.\n",
        "Examples\n",
        "\n",
        "user's word : \"ppoeemm\" ➞ \"poem\"\n",
        "\n",
        "user's word : \"wiiiinnnnd\" ➞ \"wind\"\n",
        "\n",
        "user's word : \"ttiiitllleeee\" ➞ \"title\"\n",
        "\n",
        "user's word : \"cccccaaarrrbbonnnnn\" ➞ \"carbon\"\n",
        "Notes\n",
        "Final strings won’t include words with double letters (e.g. “passing”, “lottery”)."
      ],
      "metadata": {
        "id": "ccpyShEp8fsl"
      }
    },
    {
      "cell_type": "code",
      "source": [
        "def remove_consecutive_duplicates(word):\n",
        "  if not word:\n",
        "    return \"\"\n",
        "\n",
        "  new_string = \"\"\n",
        "  new_string += word[0]\n",
        "  for i in range(1, len(word)):\n",
        "    if word[i] != word[i-1]:\n",
        "      new_string += word[i]\n",
        "  return new_string\n",
        "\n",
        "user_word = input(\"Enter a word : \")\n",
        "result = remove_consecutive_duplicates(user_word)\n",
        "print(f\"{result}\")"
      ],
      "metadata": {
        "colab": {
          "base_uri": "https://localhost:8080/"
        },
        "id": "vmICe43K8kNh",
        "outputId": "0f975a86-24f3-4292-9774-1fc7523870c3"
      },
      "execution_count": 4,
      "outputs": [
        {
          "output_type": "stream",
          "name": "stdout",
          "text": [
            "Enter a word : cccccaaarrrbbonnnnn\n",
            "carbon\n"
          ]
        }
      ]
    }
  ]
}