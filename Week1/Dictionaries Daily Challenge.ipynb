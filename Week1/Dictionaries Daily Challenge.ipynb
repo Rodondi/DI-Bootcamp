{
  "nbformat": 4,
  "nbformat_minor": 0,
  "metadata": {
    "colab": {
      "provenance": []
    },
    "kernelspec": {
      "name": "python3",
      "display_name": "Python 3"
    },
    "language_info": {
      "name": "python"
    }
  },
  "cells": [
    {
      "cell_type": "markdown",
      "source": [
        "Instructions\n",
        "\n",
        "Challenge 1\n",
        "\n",
        "Ask a user for a word\n",
        "Write a program that creates a dictionary. This dictionary stores the indexes of each letter in a list.\n",
        "\n",
        "Make sure the letters are the keys.\n",
        "Make sure the letters are strings.\n",
        "Make sure the indexes are stored in a list and those lists are values.\n",
        "Examples\n",
        "\n",
        "\"dodo\" ➞ { \"d\": [0, 2], \"o\": [1, 3] }\n",
        "\n",
        "\"froggy\" ➞ { \"f\":  [0], \"r\": [1], \"o\": [2], \"g\": [3, 4], \"y\": [5] }\n",
        "\n",
        "\"grapes\" ➞ { \"g\": [0], \"r\": [1], \"a\": [2], \"p\": [3]}"
      ],
      "metadata": {
        "id": "lmeBNDO2gECN"
      }
    },
    {
      "cell_type": "code",
      "execution_count": 2,
      "metadata": {
        "colab": {
          "base_uri": "https://localhost:8080/"
        },
        "id": "bRPlcBPgcKgw",
        "outputId": "518dca95-e981-4f27-c59e-81e98a418091"
      },
      "outputs": [
        {
          "name": "stdout",
          "output_type": "stream",
          "text": [
            "Enter a word: dodo\n"
          ]
        },
        {
          "output_type": "execute_result",
          "data": {
            "text/plain": [
              "{'d': [0, 2], 'o': [1, 3]}"
            ]
          },
          "metadata": {},
          "execution_count": 2
        }
      ],
      "source": [
        "def letter_index(word):\n",
        "  word_dict = {}\n",
        "  for index, letter in enumerate(word):\n",
        "    if letter not in word_dict:\n",
        "      word_dict[letter] = []\n",
        "    word_dict[letter].append(index)\n",
        "  return word_dict\n",
        "\n",
        "user_input = input(\"Enter a word: \")\n",
        "result = letter_index(user_input)\n",
        "result"
      ]
    },
    {
      "cell_type": "markdown",
      "source": [
        "Challenge 2\n",
        "\n",
        "Create a program that prints a list of the items you can afford in the store with the money you have in your wallet.\n",
        "Sort the list in alphabetical order.\n",
        "Return “Nothing” if you can’t afford anything from the store.\n",
        "Hint : make sure to convert the amount from dollars to numbers. Create a program that deletes the $ sign, and the comma (for thousands)\n",
        "\n",
        "Examples\n",
        "\n",
        "The key is the product, the value is the price\n",
        "\n",
        "items_purchase = {\n",
        "  \"Water\": \"$1\",\n",
        "  \"Bread\": \"$3\",\n",
        "  \"TV\": \"$1,000\",\n",
        "  \"Fertilizer\": \"$20\"\n",
        "}\n",
        "\n",
        "wallet = \"$300\"\n",
        "\n",
        "➞ [\"Bread\", \"Fertilizer\", \"Water\"]\n",
        "\n",
        "items_purchase = {\n",
        "  \"Apple\": \"$4\",\n",
        "  \"Honey\": \"$3\",\n",
        "  \"Fan\": \"$14\",\n",
        "  \"Bananas\": \"$4\",\n",
        "  \"Pan\": \"$100\",\n",
        "  \"Spoon\": \"$2\"\n",
        "}\n",
        "\n",
        "wallet = \"$100\"\n",
        "\n",
        "➞ [\"Apple\", \"Bananas\", \"Fan\", \"Honey\", \"Spoon\"]\n",
        "\n",
        "# In fact the prices of Apple + Honey + Fan + Bananas + Pan is more that $100, so you cannot by the Pan,\n",
        "# instead you can by the Spoon that is $2\n",
        "\n",
        "items_purchase = {\n",
        "  \"Phone\": \"$999\",\n",
        "  \"Speakers\": \"$300\",\n",
        "  \"Laptop\": \"$5,000\",\n",
        "  \"PC\": \"$1200\"\n",
        "}\n",
        "\n",
        "wallet = \"$1\"\n",
        "\n",
        "➞ \"Nothing\""
      ],
      "metadata": {
        "id": "tLWgkDLggoOh"
      }
    },
    {
      "cell_type": "code",
      "source": [
        "import re\n",
        "\n",
        "def clean_price(price_str):\n",
        "  price_str = price_str.replace('$', '')\n",
        "  price_str = price_str.replace(',', '')\n",
        "  return int(price_str)\n",
        "\n",
        "def affordable_items(items_purchase, wallet):\n",
        "  wallet_amount = clean_price(wallet)\n",
        "  affordable_list = []\n",
        "  for item, price in items_purchase.items():\n",
        "    if wallet_amount >= clean_price(price):\n",
        "      affordable_list.append(item)\n",
        "\n",
        "  affordable_list.sort()\n",
        "  if not affordable_list:\n",
        "    return \"Nothing\"\n",
        "  return affordable_list\n",
        "\n",
        "items_purchase = {\n",
        "  \"Phone\": \"$999\",\n",
        "  \"Speakers\": \"$300\",\n",
        "  \"Laptop\": \"$5,000\",\n",
        "  \"PC\": \"$1200\"\n",
        "}\n",
        "wallet = \"$1\"\n",
        "print(affordable_items(items_purchase, wallet))"
      ],
      "metadata": {
        "colab": {
          "base_uri": "https://localhost:8080/"
        },
        "id": "6o6YY_MEgnug",
        "outputId": "81f989f8-2ee2-43cb-d444-e3b558f4170e"
      },
      "execution_count": 3,
      "outputs": [
        {
          "output_type": "stream",
          "name": "stdout",
          "text": [
            "Nothing\n"
          ]
        }
      ]
    }
  ]
}