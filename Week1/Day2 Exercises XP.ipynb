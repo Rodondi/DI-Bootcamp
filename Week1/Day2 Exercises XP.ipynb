{
 "cells": [
  {
   "cell_type": "markdown",
   "metadata": {
    "id": "MRwdmgUFOT0H"
   },
   "source": [
    "Exercise 1 : Hello World\n",
    "Instructions\n",
    "Print the following output in one line of code:"
   ]
  },
  {
   "cell_type": "code",
   "execution_count": 1,
   "metadata": {
    "colab": {
     "base_uri": "https://localhost:8080/"
    },
    "id": "xo4Ya-KFOKSu",
    "outputId": "e8da815b-280a-4fd7-a5ac-902b544ce330"
   },
   "outputs": [
    {
     "name": "stdout",
     "output_type": "stream",
     "text": [
      "Hello World\n",
      "Hello World\n",
      "Hello World\n",
      "Hello World\n",
      "\n"
     ]
    }
   ],
   "source": [
    "print(\"Hello World\\n\"*4)"
   ]
  },
  {
   "cell_type": "markdown",
   "metadata": {
    "id": "wlzoi0aNPCkC"
   },
   "source": [
    "Exercise 2 : Some Math\n",
    "Instructions\n",
    "Write code that calculates the result of: (99^3)*8 (meaning 99 to the power of 3, times 8)."
   ]
  },
  {
   "cell_type": "code",
   "execution_count": 2,
   "metadata": {
    "id": "6oLT5-xPPWvo"
   },
   "outputs": [],
   "source": [
    "result = (99 ** 3) * 8"
   ]
  },
  {
   "cell_type": "markdown",
   "metadata": {
    "id": "A8avvAM-RhbH"
   },
   "source": [
    "Exercise 3 : What is the output ?\n",
    "Instructions\n",
    "Predict the output of the following code snippets:"
   ]
  },
  {
   "cell_type": "code",
   "execution_count": 3,
   "metadata": {
    "id": "hWUqTTGgRrjp"
   },
   "outputs": [],
   "source": [
    "# >>> 5 < 3\n",
    "# False"
   ]
  },
  {
   "cell_type": "code",
   "execution_count": 4,
   "metadata": {
    "id": "ekoaaBjoR7hj"
   },
   "outputs": [],
   "source": [
    "# >>> 3 == 3\n",
    "# True"
   ]
  },
  {
   "cell_type": "code",
   "execution_count": 5,
   "metadata": {
    "id": "Bh3h4sP-SEdt"
   },
   "outputs": [],
   "source": [
    "# >>> 3 == \"3\"\n",
    "# False"
   ]
  },
  {
   "cell_type": "code",
   "execution_count": 6,
   "metadata": {
    "id": "7ys1yoZYSNd5"
   },
   "outputs": [],
   "source": [
    "# >>> \"3\" > 3\n",
    "# Error"
   ]
  },
  {
   "cell_type": "code",
   "execution_count": 7,
   "metadata": {
    "id": "fTFSZ9t8Sh6O"
   },
   "outputs": [],
   "source": [
    "# >>> \"Hello\" == \"hello\"\n",
    "# False"
   ]
  },
  {
   "cell_type": "markdown",
   "metadata": {
    "id": "mk-6wx3YSq9C"
   },
   "source": [
    "🌟 Exercise 4 : Your computer brand\n",
    "Instructions\n",
    "Create a variable called computer_brand which value is the brand name of your computer.\n",
    "Using the computer_brand variable print a sentence that states the following: \"I have a <computer_brand> computer\"."
   ]
  },
  {
   "cell_type": "code",
   "execution_count": 8,
   "metadata": {
    "colab": {
     "base_uri": "https://localhost:8080/"
    },
    "id": "uGnZ03wKSntd",
    "outputId": "1150352f-ba10-4eb6-b87c-0dcb7a8babdb"
   },
   "outputs": [
    {
     "name": "stdout",
     "output_type": "stream",
     "text": [
      "I have a Dell computer\n"
     ]
    }
   ],
   "source": [
    "computer_brand = \"Dell\"\n",
    "print(f\"I have a {computer_brand} computer\")"
   ]
  },
  {
   "cell_type": "markdown",
   "metadata": {
    "id": "O9LpVooGTNTS"
   },
   "source": [
    "🌟 Exercise 5 : Your information\n",
    "Instructions\n",
    "Create a variable called name, and set it’s value to your name.\n",
    "Create a variable called age, and set it’s value to your age.\n",
    "Create a variable called shoe_size, and set it’s value to your shoe size.\n",
    "Create a variable called info and set it’s value to an interesting sentence about yourself. The sentence must contain all the variables created in parts 1, 2 and 3.\n",
    "Have your code print the info message.\n",
    "Run your code\n"
   ]
  },
  {
   "cell_type": "code",
   "execution_count": 9,
   "metadata": {
    "colab": {
     "base_uri": "https://localhost:8080/"
    },
    "id": "Aqk8n0KPTjFI",
    "outputId": "cd4f7b46-3afb-4a87-e871-37cf98cc321c"
   },
   "outputs": [
    {
     "name": "stdout",
     "output_type": "stream",
     "text": [
      "My name is Rodgers Odondi, I am 30 years old, and my shoe size is 6. I love coding!\n"
     ]
    }
   ],
   "source": [
    "name = \"Rodgers Odondi\"\n",
    "age = 30\n",
    "shoe_size = 6\n",
    "\n",
    "info = f\"My name is {name}, I am {age} years old, and my shoe size is {shoe_size}. I love coding!\"\n",
    "\n",
    "print(info)"
   ]
  },
  {
   "cell_type": "markdown",
   "metadata": {
    "id": "6e52KVNWUDN8"
   },
   "source": [
    "🌟 Exercise 6 : A & B\n",
    "Instructions\n",
    "Create two variables, a and b.\n",
    "Each variable value should be a number.\n",
    "If a is bigger then b, have your code print Hello World."
   ]
  },
  {
   "cell_type": "code",
   "execution_count": 10,
   "metadata": {
    "colab": {
     "base_uri": "https://localhost:8080/"
    },
    "id": "G14nS4goUYiK",
    "outputId": "60ac9d61-425a-4d40-bb20-d633ec778da1"
   },
   "outputs": [
    {
     "name": "stdout",
     "output_type": "stream",
     "text": [
      "Hello World\n"
     ]
    }
   ],
   "source": [
    "a = 10\n",
    "b = 5\n",
    "\n",
    "if a > b:\n",
    "  print(\"Hello World\")"
   ]
  },
  {
   "cell_type": "markdown",
   "metadata": {
    "id": "Zlig_4FWUK7L"
   },
   "source": [
    "Exercise 7 : Odd or Even\n",
    "Instructions\n",
    "Write code that asks the user for a number and determines whether this number is odd or even."
   ]
  },
  {
   "cell_type": "code",
   "execution_count": 11,
   "metadata": {
    "colab": {
     "base_uri": "https://localhost:8080/"
    },
    "id": "6mS7456dUo1P",
    "outputId": "0ddf28c9-614e-4f4e-cb17-afc7b69f4d92"
   },
   "outputs": [
    {
     "name": "stdout",
     "output_type": "stream",
     "text": [
      "Enter a number: 7\n",
      "7 is odd.\n"
     ]
    }
   ],
   "source": [
    "number = int(input(\"Enter a number: \"))\n",
    "\n",
    "if number % 2 == 0:\n",
    "  print(f\"{number} is even.\")\n",
    "else:\n",
    "  print(f\"{number} is odd.\")\n"
   ]
  },
  {
   "cell_type": "markdown",
   "metadata": {
    "id": "QpfpAuWBU8g1"
   },
   "source": [
    "🌟 Exercise 8 : What’s your name ?\n",
    "Instructions\n",
    "Write code that asks the user for their name and determines whether or not you have the same name, print out a funny message based on the outcome."
   ]
  },
  {
   "cell_type": "code",
   "execution_count": 12,
   "metadata": {
    "colab": {
     "base_uri": "https://localhost:8080/"
    },
    "id": "UNhh1qxzU9nU",
    "outputId": "aefb39aa-ce08-4394-da40-459e3bba7cfb"
   },
   "outputs": [
    {
     "name": "stdout",
     "output_type": "stream",
     "text": [
      "What's your name? Monty Python\n",
      "Sorry, Monty Python! I'm Rodgers Odondi, the first of that name.\n"
     ]
    }
   ],
   "source": [
    "user_name = input(\"What's your name? \")\n",
    "\n",
    "my_name = \"Rodgers Odondi\"\n",
    "\n",
    "if user_name.lower() == my_name.lower():\n",
    "  print(\"Wow! We have the same name. Mind if I borrow your identity for a day?\")\n",
    "else:\n",
    "  print(f\"Sorry, {user_name}! I'm {my_name}, the first of that name.\")"
   ]
  },
  {
   "cell_type": "markdown",
   "metadata": {
    "id": "JHn_JuomWVh8"
   },
   "source": [
    "🌟 Exercise 9 : Tall enough to ride a roller coaster\n",
    "Instructions\n",
    "Write code that will ask the user for their height in centimeters.\n",
    "If they are over 145cm print a message that states they are tall enough to ride.\n",
    "If they are not tall enough print a message that says they need to grow some more to ride."
   ]
  },
  {
   "cell_type": "code",
   "execution_count": 13,
   "metadata": {
    "colab": {
     "base_uri": "https://localhost:8080/"
    },
    "id": "wEHfSwNvWZ-z",
    "outputId": "3864ae59-bbde-4957-b255-73f0d456b16a"
   },
   "outputs": [
    {
     "name": "stdout",
     "output_type": "stream",
     "text": [
      "Enter your height in centimeters: 165\n",
      "You are tall enough to ride the roller coaster!\n"
     ]
    }
   ],
   "source": [
    "height = int(input(\"Enter your height in centimeters: \"))\n",
    "\n",
    "if height > 145:\n",
    "  print(\"You are tall enough to ride the roller coaster!\")\n",
    "else:\n",
    "  print(\"You need to grow some more to ride the roller coaster.\")\n"
   ]
  }
 ],
 "metadata": {
  "colab": {
   "provenance": []
  },
  "kernelspec": {
   "display_name": "Python 3",
   "language": "python",
   "name": "python3"
  },
  "language_info": {
   "codemirror_mode": {
    "name": "ipython",
    "version": 3
   },
   "file_extension": ".py",
   "mimetype": "text/x-python",
   "name": "python",
   "nbconvert_exporter": "python",
   "pygments_lexer": "ipython3",
   "version": "3.8.5"
  }
 },
 "nbformat": 4,
 "nbformat_minor": 1
}
