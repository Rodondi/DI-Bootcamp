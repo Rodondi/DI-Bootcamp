{
 "cells": [
  {
   "cell_type": "markdown",
   "metadata": {
    "id": "NWHigf5ZyUA_"
   },
   "source": [
    "Exercise 1 : Hello World-I love Python\n",
    "Instructions\n",
    "Print the following output in one line of code:\n",
    "\n",
    "Hello world\n",
    "Hello world\n",
    "Hello world\n",
    "Hello world\n",
    "I love python\n",
    "I love python\n",
    "I love python\n",
    "I love python"
   ]
  },
  {
   "cell_type": "code",
   "execution_count": 1,
   "metadata": {
    "colab": {
     "base_uri": "https://localhost:8080/"
    },
    "id": "ClLF19JHzStp",
    "outputId": "9e21f350-8dbb-43e9-c6e3-a492c0d25d4a"
   },
   "outputs": [
    {
     "name": "stdout",
     "output_type": "stream",
     "text": [
      "Hello world\n",
      "Hello world\n",
      "Hello world\n",
      "Hello world\n",
      "I love python\n",
      "I love python\n",
      "I love python\n",
      "I love python\n",
      "\n"
     ]
    }
   ],
   "source": [
    "print('Hello world\\n' * 4 + 'I love python\\n' * 4)"
   ]
  },
  {
   "cell_type": "markdown",
   "metadata": {
    "id": "gfBxbhm-zc_c"
   },
   "source": [
    "Exercise 2 : What is the Season ?\n",
    "Instructions\n",
    "Ask the user to input a month (1 to 12).\n",
    "Display the season of the month received :\n",
    "Spring runs from March (3) to May (5)\n",
    "Summer runs from June (6) to August (8)\n",
    "Autumn runs from September (9) to November (11)\n",
    "Winter runs from December (12) to February (2)"
   ]
  },
  {
   "cell_type": "code",
   "execution_count": 2,
   "metadata": {
    "colab": {
     "base_uri": "https://localhost:8080/"
    },
    "id": "B5f3NpUFzknK",
    "outputId": "c42c8755-df2a-460e-c557-bae07b82bf4e"
   },
   "outputs": [
    {
     "name": "stdout",
     "output_type": "stream",
     "text": [
      "Input a month (1 to 12): 5\n",
      "Spring\n"
     ]
    }
   ],
   "source": [
    "month = int(input('Input a month (1 to 12): '))\n",
    "\n",
    "if month in [3, 4, 5]:\n",
    "    print('Spring')\n",
    "elif month in [6, 7, 8]:\n",
    "    print('Summer')\n",
    "elif month in [9, 10, 11]:\n",
    "    print('Autumn')"
   ]
  }
 ],
 "metadata": {
  "colab": {
   "provenance": []
  },
  "kernelspec": {
   "display_name": "Python 3",
   "language": "python",
   "name": "python3"
  },
  "language_info": {
   "codemirror_mode": {
    "name": "ipython",
    "version": 3
   },
   "file_extension": ".py",
   "mimetype": "text/x-python",
   "name": "python",
   "nbconvert_exporter": "python",
   "pygments_lexer": "ipython3",
   "version": "3.8.5"
  }
 },
 "nbformat": 4,
 "nbformat_minor": 1
}
