{
  "nbformat": 4,
  "nbformat_minor": 0,
  "metadata": {
    "colab": {
      "provenance": []
    },
    "kernelspec": {
      "name": "python3",
      "display_name": "Python 3"
    },
    "language_info": {
      "name": "python"
    }
  },
  "cells": [
    {
      "cell_type": "markdown",
      "source": [
        "🌟 Exercise 1 : Convert lists into dictionaries\n",
        "\n",
        "Instructions\n",
        "Convert the two following lists, into dictionaries.\n",
        "Hint: Use the zip method\n",
        "keys = ['Ten', 'Twenty', 'Thirty']\n",
        "values = [10, 20, 30]"
      ],
      "metadata": {
        "id": "Gb2etBu4LUA9"
      }
    },
    {
      "cell_type": "code",
      "execution_count": 1,
      "metadata": {
        "colab": {
          "base_uri": "https://localhost:8080/"
        },
        "id": "vSGCWRpt0OM_",
        "outputId": "993498ed-bb1d-4701-d012-169683463122"
      },
      "outputs": [
        {
          "output_type": "execute_result",
          "data": {
            "text/plain": [
              "{'Ten': 10, 'Twenty': 20, 'Thirty': 30}"
            ]
          },
          "metadata": {},
          "execution_count": 1
        }
      ],
      "source": [
        "keys = ['Ten', 'Twenty', 'Thirty']\n",
        "values = [10, 20, 30]\n",
        "\n",
        "my_dict = dict(zip(keys, values))\n",
        "my_dict"
      ]
    },
    {
      "cell_type": "markdown",
      "source": [
        "🌟 Exercise 2 : Cinemax #2\n",
        "\n",
        "Instructions\n",
        "A movie theater charges different ticket prices depending on a person’s age.\n",
        "if a person is under the age of 3, the ticket is free.\n",
        "if they are between 3 and 12, the ticket is $10.\n",
        "if they are over the age of 12, the ticket is $15.\n",
        "\n",
        "Given the following object:\n",
        "\n",
        "family = {\"rick\": 43, 'beth': 13, 'morty': 5, 'summer': 8}\n",
        "\n",
        "\n",
        "How much does each family member have to pay ?\n",
        "\n",
        "Print out the family’s total cost for the movies.\n",
        "Bonus: Ask the user to input the names and ages instead of using the provided family variable (Hint: ask the user for names and ages and add them into a family dictionary that is initially empty)."
      ],
      "metadata": {
        "id": "Ltol6SznMXQy"
      }
    },
    {
      "cell_type": "markdown",
      "source": [
        "Task 1:\n",
        "\n",
        "How much does each family member have to pay ?\n",
        "\n",
        "Print out the family’s total cost for the movies"
      ],
      "metadata": {
        "id": "9q71aiACNgx3"
      }
    },
    {
      "cell_type": "code",
      "source": [
        "# Family dictionary\n",
        "family = {\"rick\": 43, \"beth\": 13, \"morty\": 5, \"summer\": 8}\n",
        "\n",
        "# Ticket pricing calculation function\n",
        "def calculate_ticket_price(age):\n",
        "    if age < 3:\n",
        "        return 0\n",
        "    elif 3 <= age <= 12:\n",
        "        return 10\n",
        "    else:\n",
        "        return 15\n",
        "\n",
        "# Calculating total cost and printing individual costs\n",
        "total_cost = 0\n",
        "\n",
        "for name, age in family.items():\n",
        "    price = calculate_ticket_price(age)\n",
        "    print(f\"{name} has to pay ${price}\")\n",
        "    total_cost += price\n",
        "\n",
        "print(f\"Total cost for the family: ${total_cost}\")"
      ],
      "metadata": {
        "colab": {
          "base_uri": "https://localhost:8080/"
        },
        "id": "nV6en-DyNKxP",
        "outputId": "e1056100-f05b-42ab-d638-e034710b794c"
      },
      "execution_count": 4,
      "outputs": [
        {
          "output_type": "stream",
          "name": "stdout",
          "text": [
            "rick has to pay $15\n",
            "beth has to pay $15\n",
            "morty has to pay $10\n",
            "summer has to pay $10\n",
            "Total cost for the family: $50\n"
          ]
        }
      ]
    },
    {
      "cell_type": "markdown",
      "source": [
        "Bonus\n",
        "\n",
        "Ask the user to input the names and ages instead of using the provided family variable (Hint: ask the user for names and ages and add them into a family dictionary that is initially empty)."
      ],
      "metadata": {
        "id": "wv2xDaGkOOmE"
      }
    },
    {
      "cell_type": "code",
      "source": [
        "# Creating an empty dictionary for the family\n",
        "family = {}\n",
        "\n",
        "# Asking the user how many family members to enter\n",
        "num_members = int(input(\"Enter the number of family members: \"))\n",
        "\n",
        "# Getting user input for names and ages\n",
        "for _ in range(num_members):\n",
        "    name = input(\"Enter the name: \").strip()\n",
        "    age = int(input(f\"Enter {name}'s age: \"))\n",
        "    family[name] = age\n",
        "\n",
        "# Calculating and printing ticket costs\n",
        "total_cost = 0\n",
        "for name, age in family.items():\n",
        "    price = calculate_ticket_price(age)\n",
        "    print(f\"{name} has to pay ${price}\")\n",
        "    total_cost += price\n",
        "\n",
        "print(f\"Total cost for the family: ${total_cost}\")"
      ],
      "metadata": {
        "colab": {
          "base_uri": "https://localhost:8080/"
        },
        "id": "u5msCM2xOWh2",
        "outputId": "029ea2e4-ee94-42a8-ad93-81cec9558ddc"
      },
      "execution_count": 6,
      "outputs": [
        {
          "output_type": "stream",
          "name": "stdout",
          "text": [
            "Enter the number of family members: 4\n",
            "Enter the name: Anthony\n",
            "Enter Anthony's age: 3\n",
            "Enter the name: Meadow\n",
            "Enter Meadow's age: 11\n",
            "Enter the name: Jackie\n",
            "Enter Jackie's age: 13\n",
            "Enter the name: Tony\n",
            "Enter Tony's age: 50\n",
            "Anthony has to pay $10\n",
            "Meadow has to pay $10\n",
            "Jackie has to pay $15\n",
            "Tony has to pay $15\n",
            "Total cost for the family: $50\n"
          ]
        }
      ]
    },
    {
      "cell_type": "markdown",
      "source": [
        "🌟 Exercise 3: Zara\n",
        "\n",
        "Instructions\n",
        "Here is some information about a brand.\n",
        "name: Zara\n",
        "creation_date: 1975\n",
        "creator_name: Amancio Ortega Gaona\n",
        "type_of_clothes: men, women, children, home\n",
        "international_competitors: Gap, H&M, Benetton\n",
        "number_stores: 7000\n",
        "major_color:\n",
        "    France: blue,\n",
        "    Spain: red,\n",
        "    US: pink, green\n",
        "\n",
        "\n",
        "2. Create a dictionary called brand which value is the information from part one (turn the info into keys and values).\n",
        "The values type_of_clothes and international_competitors should be a list. The value of major_color should be a dictionary.\n",
        "3. Change the number of stores to 2.\n",
        "4. Use the key [type_of_clothes] to print a sentence that explains who Zaras clients are.\n",
        "5. Add a key called country_creation with a value of Spain.\n",
        "6. Check if the key international_competitors is in the dictionary. If it is, add the store Desigual.\n",
        "7. Delete the information about the date of creation.\n",
        "8. Print the last international competitor.\n",
        "9. Print the major clothes colors in the US.\n",
        "10. Print the amount of key value pairs (ie. length of the dictionary).\n",
        "11. Print the keys of the dictionary.\n",
        "12. Create another dictionary called more_on_zara with the following details:\n",
        "\n",
        "creation_date: 1975\n",
        "number_stores: 10 000\n",
        "\n",
        "\n",
        "13. Use a method to add the information from the dictionary more_on_zara to the dictionary brand.\n",
        "14. Print the value of the key number_stores. What just happened ?"
      ],
      "metadata": {
        "id": "fnAAj0e6Qq-M"
      }
    },
    {
      "cell_type": "markdown",
      "source": [
        "Task 1:\n",
        "\n",
        "Create a dictionary called brand which value is the information from part one (turn the info into keys and values).\n",
        "The values type_of_clothes and international_competitors should be a list. The value of major_color should be a dictionary."
      ],
      "metadata": {
        "id": "lxL4K-E0T1QN"
      }
    },
    {
      "cell_type": "code",
      "source": [
        "# Creating the brand dictionary\n",
        "brand = {\n",
        "    \"name\": \"Zara\",\n",
        "    \"creation_date\": 1975,\n",
        "    \"creator_name\": \"Amancio Ortega Gaona\",\n",
        "    \"type_of_clothes\": [\"men\", \"women\", \"children\", \"home\"],\n",
        "    \"international_competitors\": [\"Gap\", \"H&M\", \"Benetton\"],\n",
        "    \"number_stores\": 7000,\n",
        "    \"major_color\": {\n",
        "        \"France\": \"blue\",\n",
        "        \"Spain\": \"red\",\n",
        "        \"US\": [\"pink\", \"green\"]\n",
        "    }\n",
        "}"
      ],
      "metadata": {
        "id": "wBv3qPyITm1u"
      },
      "execution_count": 8,
      "outputs": []
    },
    {
      "cell_type": "markdown",
      "source": [
        "Task 2:\n",
        "\n",
        "Change the number of stores to 2."
      ],
      "metadata": {
        "id": "lj87cIlWUJKQ"
      }
    },
    {
      "cell_type": "code",
      "source": [
        "# Changing number of stores to 2\n",
        "brand[\"number_stores\"] = 2"
      ],
      "metadata": {
        "id": "zWrE2tuEUI08"
      },
      "execution_count": 9,
      "outputs": []
    },
    {
      "cell_type": "markdown",
      "source": [
        "Task 3:\n",
        "\n",
        "Use the key [type_of_clothes] to print a sentence that explains who Zaras clients are."
      ],
      "metadata": {
        "id": "HWiSy1tWUbSm"
      }
    },
    {
      "cell_type": "code",
      "source": [
        "# Printing who Zara's clients are\n",
        "print(f\"Zara's clients are {', '.join(brand['type_of_clothes'])}.\")"
      ],
      "metadata": {
        "colab": {
          "base_uri": "https://localhost:8080/"
        },
        "id": "HDi6bsfJUa81",
        "outputId": "70879d04-bf26-440b-cb73-48526dedfc8e"
      },
      "execution_count": 10,
      "outputs": [
        {
          "output_type": "stream",
          "name": "stdout",
          "text": [
            "Zara's clients are men, women, children, home.\n"
          ]
        }
      ]
    },
    {
      "cell_type": "markdown",
      "source": [
        "Task 4:\n",
        "\n",
        "Add a key called country_creation with a value of Spain"
      ],
      "metadata": {
        "id": "VdmzlAcQUvvC"
      }
    },
    {
      "cell_type": "code",
      "source": [
        "# Adding country_creation key\n",
        "brand[\"country_creation\"] = \"Spain\""
      ],
      "metadata": {
        "id": "zhlJQLVBUvhp"
      },
      "execution_count": 11,
      "outputs": []
    },
    {
      "cell_type": "markdown",
      "source": [
        "Task 5:\n",
        "\n",
        "Check if the key international_competitors is in the dictionary. If it is, add the store Desigual."
      ],
      "metadata": {
        "id": "RD7SWMdwVI-Q"
      }
    },
    {
      "cell_type": "code",
      "source": [
        "if \"international_competitors\" in brand:\n",
        "    brand[\"international_competitors\"].append(\"Desigual\")"
      ],
      "metadata": {
        "id": "tLXaFiakVIjb"
      },
      "execution_count": 12,
      "outputs": []
    },
    {
      "cell_type": "markdown",
      "source": [
        "Task 6:\n",
        "\n",
        "Delete the information about the date of creation"
      ],
      "metadata": {
        "id": "bYbkVw-ZVY55"
      }
    },
    {
      "cell_type": "code",
      "source": [
        "# Deleting 'creation_date'\n",
        "del brand[\"creation_date\"]"
      ],
      "metadata": {
        "id": "96byDS7_VYt6"
      },
      "execution_count": 13,
      "outputs": []
    },
    {
      "cell_type": "markdown",
      "source": [
        "Task 7:\n",
        "\n",
        "Print the last international competitor."
      ],
      "metadata": {
        "id": "FspNNkB0VsM0"
      }
    },
    {
      "cell_type": "code",
      "source": [
        "# Printing the last international competitor\n",
        "print(f\"Last international competitor: {brand['international_competitors'][-1]}\")"
      ],
      "metadata": {
        "colab": {
          "base_uri": "https://localhost:8080/"
        },
        "id": "_xcflbgLVqBr",
        "outputId": "a5ec52de-2e74-4668-8db7-394e9df572fb"
      },
      "execution_count": 14,
      "outputs": [
        {
          "output_type": "stream",
          "name": "stdout",
          "text": [
            "Last international competitor: Desigual\n"
          ]
        }
      ]
    },
    {
      "cell_type": "markdown",
      "source": [
        "Task 8:\n",
        "\n",
        "Print the major clothes colors in the US."
      ],
      "metadata": {
        "id": "1kG_j7UqWICz"
      }
    },
    {
      "cell_type": "code",
      "source": [
        "# Printing major clothing colors in the US\n",
        "print(f\"Major colors in the US: {', '.join(brand['major_color']['US'])}\")"
      ],
      "metadata": {
        "colab": {
          "base_uri": "https://localhost:8080/"
        },
        "id": "xOXCiLwCWHxP",
        "outputId": "1001066c-13ea-4926-97aa-24a88ed41dc8"
      },
      "execution_count": 15,
      "outputs": [
        {
          "output_type": "stream",
          "name": "stdout",
          "text": [
            "Major colors in the US: pink, green\n"
          ]
        }
      ]
    },
    {
      "cell_type": "markdown",
      "source": [
        "Task 9:\n",
        "\n",
        "Print the amount of key value pairs (ie. length of the dictionary)."
      ],
      "metadata": {
        "id": "Wp-vDjG7XMpo"
      }
    },
    {
      "cell_type": "code",
      "source": [
        "# Printing the number of key-value pairs\n",
        "print(f\"Number of key-value pairs: {len(brand)}\")"
      ],
      "metadata": {
        "colab": {
          "base_uri": "https://localhost:8080/"
        },
        "id": "dMO7g6SfXE3r",
        "outputId": "5c8d879a-fba3-4216-f4c3-c17dd55d0433"
      },
      "execution_count": 16,
      "outputs": [
        {
          "output_type": "stream",
          "name": "stdout",
          "text": [
            "Number of key-value pairs: 7\n"
          ]
        }
      ]
    },
    {
      "cell_type": "markdown",
      "source": [
        "Task 10:\n",
        "\n",
        "Print the keys of the dictionary."
      ],
      "metadata": {
        "id": "LG99wjmnXcZq"
      }
    },
    {
      "cell_type": "code",
      "source": [
        "# Printing the keys of the dictionary\n",
        "print(f\"Keys in the dictionary: {list(brand.keys())}\")"
      ],
      "metadata": {
        "colab": {
          "base_uri": "https://localhost:8080/"
        },
        "id": "QjU8eTh7XcO3",
        "outputId": "024cf64f-b0c7-4c97-87b9-f54e732681e5"
      },
      "execution_count": 17,
      "outputs": [
        {
          "output_type": "stream",
          "name": "stdout",
          "text": [
            "Keys in the dictionary: ['name', 'creator_name', 'type_of_clothes', 'international_competitors', 'number_stores', 'major_color', 'country_creation']\n"
          ]
        }
      ]
    },
    {
      "cell_type": "markdown",
      "source": [
        "Task 11:\n",
        "\n",
        "Create another dictionary called more_on_zara with the following details:\n",
        "\n",
        "creation_date: 1975\n",
        "number_stores: 10 000"
      ],
      "metadata": {
        "id": "56vswVqRX50R"
      }
    },
    {
      "cell_type": "code",
      "source": [
        "# Creating the more_on_zara dictionary\n",
        "more_on_zara = {\n",
        "    \"creation_date\": 1975,\n",
        "    \"number_stores\": 10000\n",
        "}"
      ],
      "metadata": {
        "id": "dodz6cfJX5hR"
      },
      "execution_count": 18,
      "outputs": []
    },
    {
      "cell_type": "markdown",
      "source": [
        "Task 12:\n",
        "\n",
        " Use a method to add the information from the dictionary more_on_zara to the dictionary brand."
      ],
      "metadata": {
        "id": "vKrAO_J_YgjL"
      }
    },
    {
      "cell_type": "code",
      "source": [
        "# Adding more_on_zara dictionary into brand dictionary\n",
        "brand.update(more_on_zara)"
      ],
      "metadata": {
        "id": "u0gm_Q72YUDO"
      },
      "execution_count": 19,
      "outputs": []
    },
    {
      "cell_type": "markdown",
      "source": [
        "Task 13:\n",
        "\n",
        "Print the value of the key number_stores. What just happened ?"
      ],
      "metadata": {
        "id": "e_880RzmZCz4"
      }
    },
    {
      "cell_type": "code",
      "source": [
        "# Printing updated number_stores\n",
        "print(f\"Updated number of stores: {brand['number_stores']}\")\n",
        "\n",
        "# The `update()` method overwrites existing values in the dictionary.\n",
        "# \"number_stores\" was previously set to 2, it now changes to 10,000."
      ],
      "metadata": {
        "colab": {
          "base_uri": "https://localhost:8080/"
        },
        "id": "LoEjEciGZDHq",
        "outputId": "42d78361-3766-4eb7-c1ab-a860ff64753d"
      },
      "execution_count": 20,
      "outputs": [
        {
          "output_type": "stream",
          "name": "stdout",
          "text": [
            "Updated number of stores: 10000\n"
          ]
        }
      ]
    },
    {
      "cell_type": "markdown",
      "source": [
        "Exercise 4 : Disney characters\n",
        "Instructions\n",
        "Use this list :\n",
        "\n",
        "users = [\"Mickey\",\"Minnie\",\"Donald\",\"Ariel\",\"Pluto\"]\n",
        "Analyse these results :\n",
        "\n",
        "#1/\n",
        "\n",
        ">>> print(disney_users_A)\n",
        "{\"Mickey\": 0, \"Minnie\": 1, \"Donald\": 2, \"Ariel\": 3, \"Pluto\": 4}\n",
        "\n",
        "#2/\n",
        "\n",
        ">>> print(disney_users_B)\n",
        "{0: \"Mickey\",1: \"Minnie\", 2: \"Donald\", 3: \"Ariel\", 4: \"Pluto\"}\n",
        "\n",
        "#3/\n",
        "\n",
        ">>> print(disney_users_C)\n",
        "{\"Ariel\": 0, \"Donald\": 1, \"Mickey\": 2, \"Minnie\": 3, \"Pluto\": 4}\n",
        "\n",
        "\n",
        "Use a for loop to recreate the 1st result. Tip : don’t hardcode the numbers.\n",
        "Use a for loop to recreate the 2nd result. Tip : don’t hardcode the numbers.\n",
        "Use a method to recreate the 3rd result. Hint: The 3rd result is sorted alphabetically.\n",
        "Only recreate the 1st result for:\n",
        "The characters, which names contain the letter “i”.\n",
        "The characters, which names start with the letter “m” or “p”.\n"
      ],
      "metadata": {
        "id": "cModRp9tZuGM"
      }
    },
    {
      "cell_type": "markdown",
      "source": [
        "Task 1:\n",
        "\n",
        "Use a for loop to recreate the 1st result. Tip : don’t hardcode the numbers."
      ],
      "metadata": {
        "id": "yYBMCX9QazOW"
      }
    },
    {
      "cell_type": "code",
      "source": [
        "users = [\"Mickey\",\"Minnie\",\"Donald\",\"Ariel\",\"Pluto\"]\n",
        "\n",
        "# 1st result\n",
        "disney_users_A = {}\n",
        "for index, user in enumerate(users):\n",
        "    disney_users_A[user] = index\n",
        "print(disney_users_A)"
      ],
      "metadata": {
        "id": "odPHPquSZtfP",
        "colab": {
          "base_uri": "https://localhost:8080/"
        },
        "outputId": "cf53f645-1c33-40cb-c80a-deb15e136f2f"
      },
      "execution_count": 21,
      "outputs": [
        {
          "output_type": "stream",
          "name": "stdout",
          "text": [
            "{'Mickey': 0, 'Minnie': 1, 'Donald': 2, 'Ariel': 3, 'Pluto': 4}\n"
          ]
        }
      ]
    },
    {
      "cell_type": "markdown",
      "source": [
        "Task 2:\n",
        "\n",
        "Use a for loop to recreate the 2nd result. Tip : don’t hardcode the numbers."
      ],
      "metadata": {
        "id": "fEjG2Q_vbD3e"
      }
    },
    {
      "cell_type": "code",
      "source": [
        "# 2nd result\n",
        "disney_users_B = {}\n",
        "for index, user in enumerate(users):\n",
        "    disney_users_B[index] = user\n",
        "print(disney_users_B)"
      ],
      "metadata": {
        "colab": {
          "base_uri": "https://localhost:8080/"
        },
        "id": "o0nkWQpZaqiZ",
        "outputId": "fed1ec2c-0723-417b-beea-b99692641dfb"
      },
      "execution_count": 22,
      "outputs": [
        {
          "output_type": "stream",
          "name": "stdout",
          "text": [
            "{0: 'Mickey', 1: 'Minnie', 2: 'Donald', 3: 'Ariel', 4: 'Pluto'}\n"
          ]
        }
      ]
    },
    {
      "cell_type": "markdown",
      "source": [
        "Task 3: Use a method to recreate the 3rd result. Hint: The 3rd result is sorted alphabetically"
      ],
      "metadata": {
        "id": "v10Iizvxband"
      }
    },
    {
      "cell_type": "code",
      "source": [
        "# 3rd result\n",
        "sorted_users = sorted(users)\n",
        "disney_users_C = {user: index for index, user in enumerate(sorted_users)}\n",
        "print(disney_users_C)"
      ],
      "metadata": {
        "colab": {
          "base_uri": "https://localhost:8080/"
        },
        "id": "YB_EORobbMvA",
        "outputId": "b1fb953f-281c-49a7-f7b1-b282a18edd9b"
      },
      "execution_count": 24,
      "outputs": [
        {
          "output_type": "stream",
          "name": "stdout",
          "text": [
            "{'Ariel': 0, 'Donald': 1, 'Mickey': 2, 'Minnie': 3, 'Pluto': 4}\n"
          ]
        }
      ]
    },
    {
      "cell_type": "markdown",
      "source": [
        "Task 4:\n",
        "\n",
        "Only recreate the 1st result for:\n",
        "The characters, which names contain the letter “i”.\n",
        "The characters, which names start with the letter “m” or “p”."
      ],
      "metadata": {
        "id": "KwpZlMXOdOsC"
      }
    },
    {
      "cell_type": "code",
      "source": [
        "# only characters with \"i\" in their name\n",
        "disney_users_i = {user: index for index, user in enumerate(users) if \"i\" in user.lower()}\n",
        "print(disney_users_i)"
      ],
      "metadata": {
        "colab": {
          "base_uri": "https://localhost:8080/"
        },
        "id": "uVYFuSmtbhaz",
        "outputId": "a15cd26a-2dd7-4130-95d2-387ed00d247d"
      },
      "execution_count": 26,
      "outputs": [
        {
          "output_type": "stream",
          "name": "stdout",
          "text": [
            "{'Mickey': 0, 'Minnie': 1, 'Ariel': 3}\n"
          ]
        }
      ]
    },
    {
      "cell_type": "code",
      "source": [
        "# only characters which names start with \"m\" or \"p\"\n",
        "disney_users_mp = {user: index for index, user in enumerate(users) if user[0].lower() in [\"m\", \"p\"]}\n",
        "print(disney_users_mp)"
      ],
      "metadata": {
        "colab": {
          "base_uri": "https://localhost:8080/"
        },
        "id": "E-0mfOKAdwrr",
        "outputId": "3c984a4b-9e85-4328-ed24-43f1dabafaf0"
      },
      "execution_count": 27,
      "outputs": [
        {
          "output_type": "stream",
          "name": "stdout",
          "text": [
            "{'Mickey': 0, 'Minnie': 1, 'Pluto': 4}\n"
          ]
        }
      ]
    }
  ]
}