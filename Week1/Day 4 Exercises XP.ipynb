{
  "nbformat": 4,
  "nbformat_minor": 0,
  "metadata": {
    "colab": {
      "provenance": []
    },
    "kernelspec": {
      "name": "python3",
      "display_name": "Python 3"
    },
    "language_info": {
      "name": "python"
    }
  },
  "cells": [
    {
      "cell_type": "markdown",
      "source": [
        "🌟 Exercise 1 : Favorite Numbers\n",
        "\n",
        "Instructions\n",
        "Create a set called my_fav_numbers with all your favorites numbers.\n",
        "Add two new numbers to the set.\n",
        "Remove the last number.\n",
        "Create a set called friend_fav_numbers with your friend’s favorites numbers.\n",
        "Concatenate my_fav_numbers and friend_fav_numbers to a new variable called our_fav_numbers."
      ],
      "metadata": {
        "id": "O8gJ1b_Vr572"
      }
    },
    {
      "cell_type": "code",
      "execution_count": 1,
      "metadata": {
        "colab": {
          "base_uri": "https://localhost:8080/"
        },
        "id": "SOVabmEfrTCw",
        "outputId": "71370b2c-bb00-4216-9950-b81da80e5d9c"
      },
      "outputs": [
        {
          "output_type": "stream",
          "name": "stdout",
          "text": [
            "{1, 2, 3, 4, 5, 6, 8, 9, 10}\n"
          ]
        }
      ],
      "source": [
        "my_fav_numbers = {1, 2, 3, 4, 5}\n",
        "my_fav_numbers.add(6)\n",
        "my_fav_numbers.add(7)\n",
        "my_fav_numbers.remove(7)\n",
        "friend_fav_numbers = {8, 9, 10}\n",
        "our_fav_numbers = my_fav_numbers.union(friend_fav_numbers)\n",
        "print(our_fav_numbers)"
      ]
    },
    {
      "cell_type": "markdown",
      "source": [
        "🌟 Exercise 2: Tuple\n",
        "\n",
        "Instructions\n",
        "Given a tuple which value is integers, is it possible to add more integers to the tuple?"
      ],
      "metadata": {
        "id": "uCzMV64tsgnt"
      }
    },
    {
      "cell_type": "code",
      "source": [
        "# NO. Tuples are immutable"
      ],
      "metadata": {
        "id": "4F0uwNYbsgND"
      },
      "execution_count": 2,
      "outputs": []
    },
    {
      "cell_type": "markdown",
      "source": [
        "🌟 Exercise 3: List\n",
        "Instructions\n",
        "Using this list basket = [\"Banana\", \"Apples\", \"Oranges\", \"Blueberries\"];\n",
        "\n",
        "Remove “Banana” from the list.\n",
        "Remove “Blueberries” from the list.\n",
        "Add “Kiwi” to the end of the list.\n",
        "Add “Apples” to the beginning of the list.\n",
        "Count how many apples are in the basket.\n",
        "Empty the basket.\n",
        "Print(basket)"
      ],
      "metadata": {
        "id": "WyzeBE7yuySe"
      }
    },
    {
      "cell_type": "code",
      "source": [
        "basket = [\"Banana\", \"Apples\", \"Oranges\", \"Blueberries\"]\n",
        "\n",
        "# Removing \"Banana\"\n",
        "basket.remove(\"Banana\")\n",
        "\n",
        "# Removing \"Blueberries\"\n",
        "basket.remove(\"Blueberries\")\n",
        "\n",
        "# Adding \"Kiwi\" to the end of the list\n",
        "basket.append(\"Kiwi\")\n",
        "\n",
        "# Adding \"Apples\" to the beginning of the list\n",
        "basket.insert(0, \"Apples\")\n",
        "\n",
        "# Counting how many \"Apples\" are in the basket\n",
        "apple_count = basket.count(\"Apples\")\n",
        "print(f\"Number of Apples: {apple_count}\")\n",
        "\n",
        "# Emptying the basket\n",
        "basket.clear()\n",
        "\n",
        "# Printing the basket\n",
        "print(basket)  # Output: []"
      ],
      "metadata": {
        "colab": {
          "base_uri": "https://localhost:8080/"
        },
        "id": "GH8dP-XTv4CJ",
        "outputId": "349adb9a-3298-4ba6-be21-c388a7ff12c3"
      },
      "execution_count": 6,
      "outputs": [
        {
          "output_type": "stream",
          "name": "stdout",
          "text": [
            "Number of Apples: 2\n",
            "[]\n"
          ]
        }
      ]
    },
    {
      "cell_type": "markdown",
      "source": [
        "\n",
        "🌟 Exercise 4: Floats\n",
        "Instructions\n",
        "Recap – What is a float? What is the difference between an integer and a float?\n",
        "Create a list containing the following sequence of floats and integers (it should be a list with mixed types): 1.5, 2, 2.5, 3, 3.5, 4, 4.5, 5 (don’t hard-code the sequence).\n",
        "Can you think of another way to generate a sequence of floats?"
      ],
      "metadata": {
        "id": "JAU_m-98wWg5"
      }
    },
    {
      "cell_type": "code",
      "source": [
        "# A float is a number that has a decimal point, such as 1.5 or 2.5.\n",
        "\n",
        "# The Difference between an Integer and a Float is that; an Integer A whole number (e.g., 1, 2, 3) while a Float is A number with a decimal point (e.g., 1.5, 2.5, 3.5)."
      ],
      "metadata": {
        "id": "JxPNz8L5wrYQ"
      },
      "execution_count": null,
      "outputs": []
    },
    {
      "cell_type": "code",
      "source": [
        "# Creating a list of floats and integers\n",
        "mixed_list = []\n",
        "for i in range(1, 6):\n",
        "    mixed_list.append(i + 0.5)\n",
        "    mixed_list.append(i)\n",
        "\n",
        "print(mixed_list)\n",
        "\n",
        "# Using list comprehension  to generate a sequence of floats\n",
        "another_mixed_list = [i + 0.5 if i % 2 == 0 else i for i in range(1, 10)]\n",
        "print(another_mixed_list)\n",
        "\n",
        "# Using NumPy for float sequences  to generate a sequence of floats\n",
        "import numpy as np\n",
        "numpy_floats = np.arange(1.5, 5.5, 0.5)\n",
        "print(list(numpy_floats))\n"
      ],
      "metadata": {
        "colab": {
          "base_uri": "https://localhost:8080/"
        },
        "id": "6DbQWH3mwXpn",
        "outputId": "a9f5d1fc-38e8-4745-fc63-1a3232b46f49"
      },
      "execution_count": 8,
      "outputs": [
        {
          "output_type": "stream",
          "name": "stdout",
          "text": [
            "[1.5, 1, 2.5, 2, 3.5, 3, 4.5, 4, 5.5, 5]\n",
            "[1, 2.5, 3, 4.5, 5, 6.5, 7, 8.5, 9]\n",
            "[1.5, 2.0, 2.5, 3.0, 3.5, 4.0, 4.5, 5.0]\n"
          ]
        }
      ]
    },
    {
      "cell_type": "code",
      "source": [],
      "metadata": {
        "id": "Izzb8FMly6iy"
      },
      "execution_count": null,
      "outputs": []
    },
    {
      "cell_type": "markdown",
      "source": [
        "🌟 Exercise 5: For Loop\n",
        "\n",
        "Instructions\n",
        "Use a for loop to print all numbers from 1 to 20, inclusive.\n",
        "Using a for loop, that loops from 1 to 20(inclusive), print out every element which has an even index."
      ],
      "metadata": {
        "id": "qLxHYhSxOO5T"
      }
    },
    {
      "cell_type": "code",
      "source": [
        "# Printing all numbers from 1 to 20, inclusive\n",
        "for i in range(1, 21):\n",
        "    print(i)\n",
        "\n",
        "print(\"\\nNumbers at even indices:\")\n",
        "\n",
        "# Printing out every element which has an even index.\n",
        "for i in range(1, 21):\n",
        "    if (i - 1) % 2 == 0:  # Checking if index is even (0-based)\n",
        "        print(i)"
      ],
      "metadata": {
        "colab": {
          "base_uri": "https://localhost:8080/"
        },
        "id": "JXo7pKq3QrEB",
        "outputId": "ff265fc9-b961-4de3-9736-d6be3b324a4e"
      },
      "execution_count": 11,
      "outputs": [
        {
          "output_type": "stream",
          "name": "stdout",
          "text": [
            "1\n",
            "2\n",
            "3\n",
            "4\n",
            "5\n",
            "6\n",
            "7\n",
            "8\n",
            "9\n",
            "10\n",
            "11\n",
            "12\n",
            "13\n",
            "14\n",
            "15\n",
            "16\n",
            "17\n",
            "18\n",
            "19\n",
            "20\n",
            "\n",
            "Numbers at even indices:\n",
            "1\n",
            "3\n",
            "5\n",
            "7\n",
            "9\n",
            "11\n",
            "13\n",
            "15\n",
            "17\n",
            "19\n"
          ]
        }
      ]
    },
    {
      "cell_type": "markdown",
      "source": [
        "🌟 Exercise 6 : While Loop\n",
        "\n",
        "Instructions\n",
        "Write a while loop that will continuously ask the user for their name, unless the input is equal to your name."
      ],
      "metadata": {
        "id": "fB1GdxelRFYD"
      }
    },
    {
      "cell_type": "code",
      "source": [
        "my_name = \"Rodgers\"\n",
        "\n",
        "while True:\n",
        "    user_name = input(\"Enter your name: \")\n",
        "    if user_name == my_name:\n",
        "\n",
        "        break"
      ],
      "metadata": {
        "colab": {
          "base_uri": "https://localhost:8080/"
        },
        "id": "lbzETUnPRgsT",
        "outputId": "1b660012-38b8-4c23-e347-f5371f7b0398"
      },
      "execution_count": 13,
      "outputs": [
        {
          "name": "stdout",
          "output_type": "stream",
          "text": [
            "Enter your name: Rodgers\n"
          ]
        }
      ]
    },
    {
      "cell_type": "markdown",
      "source": [
        "🌟 Exercise 7: Favorite fruits\n",
        "Instructions\n",
        "Ask the user to input their favorite fruit(s) (one or several fruits).\n",
        "Hint : Use the built in input method. Ask the user to separate the fruits with a single space, eg. \"apple mango cherry\".\n",
        "Store the favorite fruit(s) in a list (convert the string of words into a list of words).\n",
        "Now that we have a list of fruits, ask the user to input a name of any fruit.\n",
        "If the user’s input is in the favorite fruits list, print “You chose one of your favorite fruits! Enjoy!”.\n",
        "If the user’s input is NOT in the list, print, “You chose a new fruit. I hope you enjoy”.\n"
      ],
      "metadata": {
        "id": "3JBKPUASSZEG"
      }
    },
    {
      "cell_type": "code",
      "source": [
        "favorite_fruits = input(\"Enter your favorite fruits (separated by a single space): \").split()\n",
        "\n",
        "chosen_fruit = input(\"Choose a fruit: \")\n",
        "\n",
        "if chosen_fruit in favorite_fruits:\n",
        "    print(\"You chose one of your favorite fruits! Enjoy!\")\n",
        "else:\n",
        "    print(\"You chose a new fruit. I hope you enjoy!\")\n"
      ],
      "metadata": {
        "colab": {
          "base_uri": "https://localhost:8080/"
        },
        "id": "aHJKu9V3Slb2",
        "outputId": "153d8aae-090d-4224-bde1-99221b2d1aa9"
      },
      "execution_count": 16,
      "outputs": [
        {
          "output_type": "stream",
          "name": "stdout",
          "text": [
            "Enter your favorite fruits (separated by a single space): apple mango cherry\n",
            "Choose a fruit: apple\n",
            "You chose one of your favorite fruits! Enjoy!\n"
          ]
        }
      ]
    },
    {
      "cell_type": "markdown",
      "source": [
        "Exercise 8: Who ordered a pizza ?\n",
        "Instructions\n",
        "Write a loop that asks a user to enter a series of pizza toppings, when the user inputs ‘quit’ stop asking for toppings.\n",
        "As they enter each topping, print a message saying you’ll add that topping to their pizza.\n",
        "Upon exiting the loop print all the toppings on the pizza pie and what the total price is (10 + 2.5 for each topping)."
      ],
      "metadata": {
        "id": "NYRguX6qUYGe"
      }
    },
    {
      "cell_type": "code",
      "source": [
        "# Initializing an empty list to store toppings\n",
        "toppings = []\n",
        "\n",
        "# Asking for user input\n",
        "while True:\n",
        "    topping = input(\"Enter a pizza topping (or type 'quit' to finish): \").strip().lower()\n",
        "\n",
        "    if topping == 'quit':\n",
        "        break\n",
        "\n",
        "    toppings.append(topping)\n",
        "    print(f\"I will add {topping} toppings to your pizza!\")\n",
        "\n",
        "# Calculating the total price\n",
        "base_price = 10\n",
        "topping_price = 2.5 * len(toppings)\n",
        "total_price = base_price + topping_price\n",
        "\n",
        "# Displaying the final order\n",
        "print(\"\\nYour pizza has the following toppings:\")\n",
        "for t in toppings:\n",
        "    print(f\"{t}\")\n",
        "\n",
        "print(f\"\\nTotal price: ${total_price:.2f}\")"
      ],
      "metadata": {
        "colab": {
          "base_uri": "https://localhost:8080/"
        },
        "id": "ndqRLNwRVBTA",
        "outputId": "6bf069ac-6439-45ac-c36e-eb83813ac8a0"
      },
      "execution_count": 21,
      "outputs": [
        {
          "output_type": "stream",
          "name": "stdout",
          "text": [
            "Enter a pizza topping (or type 'quit' to finish): 10\n",
            "I will add 10 toppings to your pizza!\n",
            "Enter a pizza topping (or type 'quit' to finish): quit\n",
            "\n",
            "Your pizza has the following toppings:\n",
            " 10\n",
            "\n",
            "Total price: $12.50\n"
          ]
        }
      ]
    },
    {
      "cell_type": "markdown",
      "source": [
        "Exercise 9: Cinemax\n",
        "\n",
        "Instructions\n",
        "A movie theater charges different ticket prices depending on a person’s age.\n",
        "if a person is under the age of 3, the ticket is free.\n",
        "if they are between 3 and 12, the ticket is $10.\n",
        "if they are over the age of 12, the ticket is $15.\n",
        "\n",
        "Ask a family the age of each person who wants a ticket.\n",
        "\n",
        "Store the total cost of all the family’s tickets and print it out.\n",
        "\n",
        "A group of teenagers are coming to your movie theater and want to watch a movie that is restricted for people between the ages of 16 and 21.\n",
        "Given a list of names, write a program that asks teenager for their age, if they are not permitted to watch the movie, remove them from the list.\n",
        "At the end, print the final list."
      ],
      "metadata": {
        "id": "4WpfEK2SXoXm"
      }
    },
    {
      "cell_type": "code",
      "source": [
        "# Task 1: Calculating total ticket cost for a family\n",
        "total_cost = 0\n",
        "\n",
        "while True:\n",
        "    age_input = input(\"Enter the age of a family member (or type 'done' to finish): \").strip()\n",
        "\n",
        "    if age_input.lower() == \"done\":\n",
        "        break\n",
        "\n",
        "    age = int(age_input)\n",
        "\n",
        "    if age < 3:\n",
        "        price = 0\n",
        "    elif 3 <= age <= 12:\n",
        "        price = 10\n",
        "    else:\n",
        "        price = 15\n",
        "\n",
        "    total_cost += price\n",
        "\n",
        "print(f\"\\nTotal cost for the family: ${total_cost}\\n\")\n",
        "\n",
        "# Task 2: Allowing only teenagers aged 16-21 to watch the restricted movie\n",
        "allowed_ages = range(16, 22)  # Allowed age range (16-21)\n",
        "teen_names = input(\"Enter the names of teenagers (separated by a single space): \").split()\n",
        "\n",
        "final_list = []\n",
        "\n",
        "for name in teen_names:\n",
        "    age = int(input(f\"Enter {name}'s age: \"))\n",
        "    if age in allowed_ages:\n",
        "        final_list.append(name)\n",
        "    else:\n",
        "        print(f\"Sorry, {name} is not allowed to watch this movie.\")\n",
        "\n",
        "# Printing the final list of teenagers who can watch the movie\n",
        "print(\"\\nFinal list of teenagers who can watch the movie:\")\n",
        "print(\" \".join(final_list) if final_list else \"No one is allowed to watch.\")"
      ],
      "metadata": {
        "colab": {
          "base_uri": "https://localhost:8080/"
        },
        "id": "axVu1em7Xmhi",
        "outputId": "e4fd49fc-36d4-41ed-e198-8d8b44d32009"
      },
      "execution_count": 26,
      "outputs": [
        {
          "output_type": "stream",
          "name": "stdout",
          "text": [
            "Enter the age of a family member (or type 'done' to finish): 2\n",
            "Enter the age of a family member (or type 'done' to finish): 11\n",
            "Enter the age of a family member (or type 'done' to finish): 18\n",
            "Enter the age of a family member (or type 'done' to finish): done\n",
            "\n",
            "Total cost for the family: $25\n",
            "\n",
            "Enter the names of teenagers (separated by spaces): Anthony Meadow Jackie Tony\n",
            "Enter Anthony's age: 15\n",
            "Sorry, Anthony is not allowed to watch this movie.\n",
            "Enter Meadow's age: 16\n",
            "Enter Jackie's age: 21\n",
            "Enter Tony's age: 50\n",
            "Sorry, Tony is not allowed to watch this movie.\n",
            "\n",
            "Final list of teenagers who can watch the movie:\n",
            "Meadow Jackie\n"
          ]
        }
      ]
    },
    {
      "cell_type": "markdown",
      "source": [
        "Exercise 10 : Sandwich Orders\n",
        "Instructions\n",
        "Using the list below :\n",
        "\n",
        "sandwich_orders = [\"Tuna sandwich\", \"Pastrami sandwich\", \"Avocado sandwich\", \"Pastrami sandwich\", \"Egg sandwich\", \"Chicken sandwich\", \"Pastrami sandwich\"]\n",
        "\n",
        "The deli has run out of pastrami, use a while loop to remove all occurrences of “Pastrami sandwich” from sandwich_orders.\n",
        "We need to prepare the orders of the clients:\n",
        "Create an empty list called finished_sandwiches.\n",
        "One by one, remove each sandwich from the sandwich_orders while adding them to the finished_sandwiches list.\n",
        "After all the sandwiches have been made, print a message listing each sandwich that was made, such as:\n",
        "I made your tuna sandwich\n",
        "I made your avocado sandwich\n",
        "I made your egg sandwich\n",
        "I made your chicken sandwich"
      ],
      "metadata": {
        "id": "InNYs8WedjiA"
      }
    },
    {
      "cell_type": "code",
      "source": [
        "# List of sandwich orders\n",
        "sandwich_orders = [\n",
        "    \"Tuna sandwich\", \"Pastrami sandwich\", \"Avocado sandwich\",\n",
        "    \"Pastrami sandwich\", \"Egg sandwich\", \"Chicken sandwich\", \"Pastrami sandwich\"\n",
        "]\n",
        "\n",
        "print(\"Sorry, the deli has run out of pastrami! Removing all 'Pastrami sandwich' orders.\\n\")\n",
        "\n",
        "# Remove all occurrences of \"Pastrami sandwich\"\n",
        "while \"Pastrami sandwich\" in sandwich_orders:\n",
        "    sandwich_orders.remove(\"Pastrami sandwich\")\n",
        "\n",
        "# List to store finished sandwiches\n",
        "finished_sandwiches = []\n",
        "\n",
        "# Process each sandwich order\n",
        "while sandwich_orders:\n",
        "    current_sandwich = sandwich_orders.pop(0)  # Remove the first sandwich from the list\n",
        "    print(f\"I made your {current_sandwich.lower()}\")  # Print message\n",
        "    finished_sandwiches.append(current_sandwich)  # Add to finished list"
      ],
      "metadata": {
        "colab": {
          "base_uri": "https://localhost:8080/"
        },
        "id": "4ybjfCPnd0i1",
        "outputId": "f5eb2ade-c2b7-48b3-b614-798ba47ce337"
      },
      "execution_count": 30,
      "outputs": [
        {
          "output_type": "stream",
          "name": "stdout",
          "text": [
            "Sorry, the deli has run out of pastrami! Removing all 'Pastrami sandwich' orders.\n",
            "\n",
            "I made your tuna sandwich\n",
            "I made your avocado sandwich\n",
            "I made your egg sandwich\n",
            "I made your chicken sandwich\n"
          ]
        }
      ]
    }
  ]
}